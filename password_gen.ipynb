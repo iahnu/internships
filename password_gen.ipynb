{
  "nbformat": 4,
  "nbformat_minor": 0,
  "metadata": {
    "colab": {
      "provenance": [],
      "authorship_tag": "ABX9TyNYCS25YAcHoz8UpNoTzcVm",
      "include_colab_link": true
    },
    "kernelspec": {
      "name": "python3",
      "display_name": "Python 3"
    },
    "language_info": {
      "name": "python"
    }
  },
  "cells": [
    {
      "cell_type": "markdown",
      "metadata": {
        "id": "view-in-github",
        "colab_type": "text"
      },
      "source": [
        "<a href=\"https://colab.research.google.com/github/iahnu/internships/blob/main/password_gen.ipynb\" target=\"_parent\"><img src=\"https://colab.research.google.com/assets/colab-badge.svg\" alt=\"Open In Colab\"/></a>"
      ]
    },
    {
      "cell_type": "code",
      "source": [
        "import tkinter as tk\n",
        "from tkinter import messagebox\n",
        "import random\n",
        "import string\n",
        "\n",
        "\n",
        "entry_username = None\n",
        "entry_password_length = None\n",
        "entry_generated_password = None\n",
        "\n",
        "def generate_password():\n",
        "    global entry_generated_password\n",
        "    password_length = int(entry_password_length.get())\n",
        "    if password_length < 8:\n",
        "        messagebox.showwarning(\"Warning\", \"Password length should be at least 8 characters.\")\n",
        "        return\n",
        "\n",
        "    characters = string.ascii_letters + string.digits + string.punctuation\n",
        "    generated_password = ''.join(random.choice(characters) for _ in range(password_length))\n",
        "    entry_generated_password.delete(0, tk.END)\n",
        "    entry_generated_password.insert(tk.END, generated_password)\n",
        "\n",
        "def accept_password():\n",
        "    global entry_username, entry_generated_password\n",
        "    username = entry_username.get()\n",
        "    password = entry_generated_password.get()\n",
        "    if not username or not password:\n",
        "        messagebox.showwarning(\"Warning\", \"Please enter username and generate a password.\")\n",
        "        return\n",
        "\n",
        "\n",
        "    messagebox.showinfo(\"Accepted\", f\"Username: {username}\\nPassword: {password}\")\n",
        "\n",
        "def reset_fields():\n",
        "    global entry_username, entry_password_length, entry_generated_password\n",
        "    entry_username.delete(0, tk.END)\n",
        "    entry_password_length.delete(0, tk.END)\n",
        "    entry_generated_password.delete(0, tk.END)\n",
        "\n",
        "def main():\n",
        "    global entry_username, entry_password_length, entry_generated_password\n",
        "    root = tk.Tk()\n",
        "    root.title(\"Password Generator\")\n",
        "\n",
        "\n",
        "    heading_label = tk.Label(root, text=\"Password Generator\", font=(\"Helvetica\", 16, \"bold\"))\n",
        "    heading_label.grid(row=0, column=0, columnspan=3, pady=20)\n",
        "\n",
        "\n",
        "    label_username = tk.Label(root, text=\"Enter Username:\")\n",
        "    label_username.grid(row=1, column=0, sticky=tk.E)\n",
        "\n",
        "    entry_username = tk.Entry(root, width=30)\n",
        "    entry_username.grid(row=1, column=1, columnspan=2)\n",
        "\n",
        "\n",
        "    label_password_length = tk.Label(root, text=\"Enter Password Length:\")\n",
        "    label_password_length.grid(row=2, column=0, sticky=tk.E)\n",
        "\n",
        "    entry_password_length = tk.Entry(root, width=10)\n",
        "    entry_password_length.grid(row=2, column=1)\n",
        "\n",
        "\n",
        "    label_generated_password = tk.Label(root, text=\"Generated Password:\")\n",
        "    label_generated_password.grid(row=3, column=0, sticky=tk.E)\n",
        "\n",
        "    entry_generated_password = tk.Entry(root, width=30)\n",
        "    entry_generated_password.grid(row=3, column=1, columnspan=2)\n",
        "\n",
        "\n",
        "    button_generate_password = tk.Button(root, text=\"Generate Password\", command=generate_password)\n",
        "    button_generate_password.grid(row=4, column=0, padx=5, pady=10)\n",
        "\n",
        "    button_accept_password = tk.Button(root, text=\"Accept\", command=accept_password)\n",
        "    button_accept_password.grid(row=4, column=1, padx=5, pady=10)\n",
        "\n",
        "    button_reset_fields = tk.Button(root, text=\"Reset\", command=reset_fields)\n",
        "    button_reset_fields.grid(row=4, column=2, padx=5, pady=10)\n",
        "\n",
        "    root.mainloop()\n",
        "\n",
        "if __name__ == \"__main__\":\n",
        "    main()\n",
        ""
      ],
      "metadata": {
        "id": "Fjyh4isbYFJ7"
      },
      "execution_count": 3,
      "outputs": []
    },
    {
      "cell_type": "code",
      "source": [],
      "metadata": {
        "id": "zcTgNEmlYIKj"
      },
      "execution_count": null,
      "outputs": []
    }
  ]
}